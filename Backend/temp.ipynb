{
 "cells": [
  {
   "cell_type": "code",
   "execution_count": 1,
   "id": "d0c78bff",
   "metadata": {},
   "outputs": [
    {
     "name": "stdout",
     "output_type": "stream",
     "text": [
      "Project structure created successfully.\n"
     ]
    }
   ],
   "source": [
    "import os\n",
    "\n",
    "# Define the folder and file structure\n",
    "structure = {\n",
    "    \"backend\": {\n",
    "        \"config\": [\"db.js\", \"env.js\"],\n",
    "        \"controllers\": [\n",
    "            \"aboutController.js\", \"authController.js\", \"blogController.js\",\n",
    "            \"brochureController.js\", \"contactController.js\",\n",
    "            \"exportController.js\", \"userController.js\"\n",
    "        ],\n",
    "        \"controllers/collectionController\": [\n",
    "            \"sanitaryWareController.js\", \"sizesController.js\", \"tilesController.js\"\n",
    "        ],\n",
    "        \"middleware\": [\"authMiddleware.js\", \"errorHandler.js\", \"validateRequest.js\"],\n",
    "        \"models\": [\n",
    "            \"About.js\", \"Blog.js\", \"Brochure.js\", \"Collection.js\", \"Product.js\",\n",
    "            \"Size.js\", \"Tile.js\", \"User.js\", \"index.js\"\n",
    "        ],\n",
    "        \"routes\": [\n",
    "            \"aboutRoutes.js\", \"authRoutes.js\", \"blogRoutes.js\",\n",
    "            \"brochureRoutes.js\", \"contactRoutes.js\", \"exportRoutes.js\", \"userRoutes.js\"\n",
    "        ],\n",
    "        \"routes/collectionRoutes\": [\n",
    "            \"sanitaryWareRoutes.js\", \"sizesRoutes.js\", \"tilesRoutes.js\"\n",
    "        ],\n",
    "        \"services\": [\"authService.js\", \"collectionService.js\", \"emailService.js\", \"thirdPartyApiService.js\"],\n",
    "        \"utils\": [\"logger.js\", \"paginator.js\", \"responseFormatter.js\"],\n",
    "        \".\": [\".env\", \".gitignore\", \"package.json\", \"server.js\"]\n",
    "    }\n",
    "}\n",
    "\n",
    "# Function to create the structure\n",
    "def create_structure(base_path, structure):\n",
    "    for folder, contents in structure.items():\n",
    "        for subfolder, files in contents.items() if isinstance(contents, dict) else [(folder, contents)]:\n",
    "            full_folder_path = os.path.join(base_path, subfolder)\n",
    "            os.makedirs(full_folder_path, exist_ok=True)\n",
    "            for file in files:\n",
    "                file_path = os.path.join(full_folder_path, file)\n",
    "                with open(file_path, 'w') as f:\n",
    "                    pass  # creates an empty file\n",
    "\n",
    "# Run the structure creation\n",
    "if __name__ == \"__main__\":\n",
    "    create_structure(\".\", structure)\n",
    "    print(\"Project structure created successfully.\")\n"
   ]
  },
  {
   "cell_type": "code",
   "execution_count": null,
   "id": "83c8fece",
   "metadata": {},
   "outputs": [],
   "source": []
  }
 ],
 "metadata": {
  "kernelspec": {
   "display_name": "Python 3",
   "language": "python",
   "name": "python3"
  },
  "language_info": {
   "codemirror_mode": {
    "name": "ipython",
    "version": 3
   },
   "file_extension": ".py",
   "mimetype": "text/x-python",
   "name": "python",
   "nbconvert_exporter": "python",
   "pygments_lexer": "ipython3",
   "version": "3.9.0"
  }
 },
 "nbformat": 4,
 "nbformat_minor": 5
}
